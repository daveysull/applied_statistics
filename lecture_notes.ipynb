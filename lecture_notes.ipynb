{
 "cells": [
  {
   "cell_type": "code",
   "execution_count": 1,
   "metadata": {},
   "outputs": [],
   "source": [
    "import math "
   ]
  },
  {
   "cell_type": "markdown",
   "metadata": {},
   "source": [
    "## Lecture Notes \n",
    "\n",
    "#### Week3\n",
    "- Famous statistical experiment / hypothesis test. Created by Ronald Fisher, the first person to analyse the Iris dataset.\n",
    "- The Design of Experiments introduced the concept of the null hypothesis\n",
    "- Making 8 Cups of Tea, 4 made one way and 4 made the other and presenting them to the subject in a random order. The order isn't determined by human choice."
   ]
  },
  {
   "cell_type": "code",
   "execution_count": 2,
   "metadata": {},
   "outputs": [],
   "source": [
    "# Number of Cups of Tea in Total\n",
    "no_cups = 8 \n",
    "\n",
    "# Number of cups of tea with milk in first\n",
    "no_cups_milk_first = 4\n",
    "\n",
    "# Number of cups of tea with tea in first\n",
    "no_cups_tea_first = 4 "
   ]
  },
  {
   "cell_type": "code",
   "execution_count": 3,
   "metadata": {},
   "outputs": [
    {
     "data": {
      "text/plain": [
       "70"
      ]
     },
     "execution_count": 3,
     "metadata": {},
     "output_type": "execute_result"
    }
   ],
   "source": [
    "# Number of Ways of selecting 4 cups from 8\n",
    "\n",
    "ways = math.comb(no_cups, no_cups_milk_first)\n",
    "\n",
    "ways"
   ]
  },
  {
   "cell_type": "markdown",
   "metadata": {},
   "source": [
    "1 2 3 4 5 6 7 8\n",
    "\n",
    ": _ _ _ _\n",
    "\n",
    "Number of choices for the first slot is 8, choices for the second is then 7, etc."
   ]
  },
  {
   "cell_type": "code",
   "execution_count": 8,
   "metadata": {},
   "outputs": [
    {
     "data": {
      "text/plain": [
       "70"
      ]
     },
     "execution_count": 8,
     "metadata": {},
     "output_type": "execute_result"
    }
   ],
   "source": [
    "ways_ordered = 8 * 7 * 6 * 5\n",
    "\n",
    "no_shuffle = 4 * 3 * 2 * 1\n",
    "\n",
    "# No. of combinations\n",
    "no_combs = ways_ordered // no_shuffle\n",
    "\n",
    "no_combs"
   ]
  },
  {
   "cell_type": "markdown",
   "metadata": {},
   "source": [
    "## math.comb(n, k)\n",
    "\n",
    "https://docs.python.org/3/library/math.html#math.comb"
   ]
  }
 ],
 "metadata": {
  "kernelspec": {
   "display_name": "Python 3",
   "language": "python",
   "name": "python3"
  },
  "language_info": {
   "codemirror_mode": {
    "name": "ipython",
    "version": 3
   },
   "file_extension": ".py",
   "mimetype": "text/x-python",
   "name": "python",
   "nbconvert_exporter": "python",
   "pygments_lexer": "ipython3",
   "version": "3.11.1"
  }
 },
 "nbformat": 4,
 "nbformat_minor": 2
}
