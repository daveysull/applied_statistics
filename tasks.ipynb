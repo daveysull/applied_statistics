{
 "cells": [
  {
   "cell_type": "markdown",
   "metadata": {},
   "source": [
    "## Notebook for Applied Statistics Tasks\n",
    "by David O'Sullivan"
   ]
  },
  {
   "cell_type": "markdown",
   "metadata": {},
   "source": [
    "## Task 1: Permutations Combinations\n",
    "\n",
    "Suppose we alter the Lady Tasting Tea experiment to involve twelve cups of tea. Six have the milk in first and the other six having tea in first. A person claims they have the special power of being able to tell whether the tea or the milk went into a cup first upon tasting it. You agree to accept their claim if they can tell which of the six cups in your experiment had the milk in first.\n",
    "\n",
    "Calculate, using Python, the probability that they select the correct six cups. Here you should assume that they have no special powers in figuring it out, that they are just guessing. Remember to show and justify your workings in code and MarkDown cells.\n",
    "\n",
    "Suppose, now, you are willing to accept one error. Once they select the six cups they think had the milk in first, you will give them the benefit of the doubt should they have selected at least five of the correct cups. Calculate the probability, assuming they have no special powers, that the person makes at most one error.\n",
    "\n",
    "Would you accept two errors? Explain."
   ]
  },
  {
   "cell_type": "code",
   "execution_count": 4,
   "metadata": {},
   "outputs": [],
   "source": [
    "# Number of cups of Tea in toal \n",
    "n = 12\n",
    "\n",
    "# Number of cups of tea with milk in first \n",
    "k = 6"
   ]
  },
  {
   "cell_type": "markdown",
   "metadata": {},
   "source": [
    "## Step 1 - Probability of selecting 6 correct cups\n",
    "The first step in this task is to calculate the probability of selecting exactly 6 correct cups from 12. Initially, we calculate the number of possible ways to select 6 cups, starting with 12 options and reducing for each selection. This gives us the total number of ordered selections, or \"ways_ordered\".\n",
    "\n",
    "Since the order doesn't matter, we account for this by dividing by the number of ways to arrange 6 items, which gives the total number of combinations of 6 cups from 12.\n",
    "\n",
    "To find the probability of guessing all 6 cups correctly, we divide the 1 favorable outcome (the correct selection) by the total number of combinations.\n",
    "\n",
    "I initially did this manually but later found that Python's math.comb() provides a simpler way to compute combinations directly."
   ]
  },
  {
   "cell_type": "markdown",
   "metadata": {},
   "source": [
    "## Manual Way"
   ]
  },
  {
   "cell_type": "code",
   "execution_count": 9,
   "metadata": {},
   "outputs": [
    {
     "data": {
      "text/plain": [
       "0.0010822510822510823"
      ]
     },
     "execution_count": 9,
     "metadata": {},
     "output_type": "execute_result"
    }
   ],
   "source": [
    "ways_ordered = 12 * 11 * 10 * 9 * 8 * 7\n",
    "\n",
    "no_shuffle = 6 * 5 * 4 * 3 * 2 * 1\n",
    "\n",
    "# No. of combinations\n",
    "no_combs = ways_ordered // no_shuffle\n",
    "\n",
    "probability_exactly_6_correct = 1 / no_combs\n",
    "\n",
    "probability_exactly_6_correct"
   ]
  },
  {
   "cell_type": "markdown",
   "metadata": {},
   "source": [
    "## More efficient way - math.comb()"
   ]
  },
  {
   "cell_type": "code",
   "execution_count": 15,
   "metadata": {},
   "outputs": [
    {
     "data": {
      "text/plain": [
       "0.0010822510822510823"
      ]
     },
     "execution_count": 15,
     "metadata": {},
     "output_type": "execute_result"
    }
   ],
   "source": [
    "import math \n",
    "# Total number of ways to choose 6 cups out of 12\n",
    "total_combinations = math.comb(12,6)\n",
    "\n",
    "# Probability of selecting all 6 cups correctly \n",
    "prob_6_correct = 1 / total_combinations\n",
    "\n",
    "prob_6_correct\n"
   ]
  },
  {
   "cell_type": "markdown",
   "metadata": {},
   "source": [
    "## Step 2 - Probability of selecting 5 correct cup (1 error)"
   ]
  },
  {
   "cell_type": "code",
   "execution_count": null,
   "metadata": {},
   "outputs": [],
   "source": []
  },
  {
   "cell_type": "markdown",
   "metadata": {},
   "source": [
    "## Step 3 - Would we accept 2 errors?"
   ]
  },
  {
   "cell_type": "code",
   "execution_count": null,
   "metadata": {},
   "outputs": [],
   "source": []
  },
  {
   "cell_type": "code",
   "execution_count": null,
   "metadata": {},
   "outputs": [],
   "source": []
  },
  {
   "cell_type": "code",
   "execution_count": null,
   "metadata": {},
   "outputs": [],
   "source": []
  },
  {
   "cell_type": "code",
   "execution_count": null,
   "metadata": {},
   "outputs": [],
   "source": []
  },
  {
   "cell_type": "code",
   "execution_count": null,
   "metadata": {},
   "outputs": [],
   "source": []
  },
  {
   "cell_type": "markdown",
   "metadata": {},
   "source": [
    "## Task 3: t-Test Calculation"
   ]
  },
  {
   "cell_type": "markdown",
   "metadata": {},
   "source": [
    "#### Paired t-Test\n",
    "\n",
    "For this task the first step is to decide which type of t-Test to do. As mentioned in my project.ipynb there are three main types of t-Tests:\n",
    "\n",
    "One-Sample t-Test: Used when comparing the mean of a single sample to a known value or population mean. For example, you might use this test to evaluate whether the average test score of a class is significantly different from a national average.\n",
    "\n",
    "Independent Samples t-Test: Applied when comparing the means of two independent groups to determine if they differ significantly. For instance, this test can assess whether males and females perform differently on a specific task.\n",
    "\n",
    "Paired Samples t-Test: Used to compare the means of two related or dependent groups, such as measurements taken from the same individuals at two different times (e.g., before and after an intervention).\n",
    "\n",
    "The dataset contains resting heart rates for patients before and after embarking on a two-week exercise program. Based off of the information above this best suits a Paired Samples t-Test so this is the test we will execute below.\n",
    "\n",
    "#### References for Task 3\n",
    "\n",
    "https://www.geeksforgeeks.org/how-to-conduct-a-paired-samples-t-test-in-python/\n",
    "\n",
    "https://www.statology.org/paired-samples-t-test-python/"
   ]
  },
  {
   "cell_type": "code",
   "execution_count": 4,
   "metadata": {},
   "outputs": [],
   "source": [
    "import pandas as pd\n",
    "import scipy.stats as stats"
   ]
  },
  {
   "cell_type": "code",
   "execution_count": 6,
   "metadata": {},
   "outputs": [
    {
     "data": {
      "text/plain": [
       "TtestResult(statistic=1.337227482480628, pvalue=0.21396011317404623, df=9)"
      ]
     },
     "execution_count": 6,
     "metadata": {},
     "output_type": "execute_result"
    }
   ],
   "source": [
    "Before = [63, 68, 70, 64, 74, 67, 70, 57, 66, 65]\n",
    "\n",
    "After = [64, 64, 68, 64, 73, 70, 72, 54, 61, 63]\n",
    "\n",
    "stats.ttest_rel(Before, After)"
   ]
  },
  {
   "cell_type": "code",
   "execution_count": null,
   "metadata": {},
   "outputs": [],
   "source": []
  },
  {
   "cell_type": "code",
   "execution_count": null,
   "metadata": {},
   "outputs": [],
   "source": []
  },
  {
   "cell_type": "code",
   "execution_count": null,
   "metadata": {},
   "outputs": [],
   "source": []
  },
  {
   "cell_type": "code",
   "execution_count": null,
   "metadata": {},
   "outputs": [],
   "source": []
  }
 ],
 "metadata": {
  "kernelspec": {
   "display_name": "Python 3",
   "language": "python",
   "name": "python3"
  },
  "language_info": {
   "codemirror_mode": {
    "name": "ipython",
    "version": 3
   },
   "file_extension": ".py",
   "mimetype": "text/x-python",
   "name": "python",
   "nbconvert_exporter": "python",
   "pygments_lexer": "ipython3",
   "version": "3.11.1"
  }
 },
 "nbformat": 4,
 "nbformat_minor": 2
}
