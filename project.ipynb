{
 "cells": [
  {
   "cell_type": "markdown",
   "metadata": {},
   "source": [
    "## Notebook for Applied Statistics Project\n",
    "by David O'Sullivan"
   ]
  },
  {
   "cell_type": "markdown",
   "metadata": {},
   "source": [
    "#### 1. Download and save the dataset to your repository.\n",
    "I found an easily downloadable file in GitHub: https://github.com/vincentarelbundock/Rdatasets/blob/master/csv/datasets/PlantGrowth.csv"
   ]
  },
  {
   "cell_type": "code",
   "execution_count": 3,
   "metadata": {},
   "outputs": [
    {
     "data": {
      "text/html": [
       "<div>\n",
       "<style scoped>\n",
       "    .dataframe tbody tr th:only-of-type {\n",
       "        vertical-align: middle;\n",
       "    }\n",
       "\n",
       "    .dataframe tbody tr th {\n",
       "        vertical-align: top;\n",
       "    }\n",
       "\n",
       "    .dataframe thead th {\n",
       "        text-align: right;\n",
       "    }\n",
       "</style>\n",
       "<table border=\"1\" class=\"dataframe\">\n",
       "  <thead>\n",
       "    <tr style=\"text-align: right;\">\n",
       "      <th></th>\n",
       "      <th>rownames</th>\n",
       "      <th>weight</th>\n",
       "      <th>group</th>\n",
       "    </tr>\n",
       "  </thead>\n",
       "  <tbody>\n",
       "    <tr>\n",
       "      <th>0</th>\n",
       "      <td>1</td>\n",
       "      <td>4.17</td>\n",
       "      <td>ctrl</td>\n",
       "    </tr>\n",
       "    <tr>\n",
       "      <th>1</th>\n",
       "      <td>2</td>\n",
       "      <td>5.58</td>\n",
       "      <td>ctrl</td>\n",
       "    </tr>\n",
       "    <tr>\n",
       "      <th>2</th>\n",
       "      <td>3</td>\n",
       "      <td>5.18</td>\n",
       "      <td>ctrl</td>\n",
       "    </tr>\n",
       "    <tr>\n",
       "      <th>3</th>\n",
       "      <td>4</td>\n",
       "      <td>6.11</td>\n",
       "      <td>ctrl</td>\n",
       "    </tr>\n",
       "    <tr>\n",
       "      <th>4</th>\n",
       "      <td>5</td>\n",
       "      <td>4.50</td>\n",
       "      <td>ctrl</td>\n",
       "    </tr>\n",
       "  </tbody>\n",
       "</table>\n",
       "</div>"
      ],
      "text/plain": [
       "   rownames  weight group\n",
       "0         1    4.17  ctrl\n",
       "1         2    5.58  ctrl\n",
       "2         3    5.18  ctrl\n",
       "3         4    6.11  ctrl\n",
       "4         5    4.50  ctrl"
      ]
     },
     "execution_count": 3,
     "metadata": {},
     "output_type": "execute_result"
    }
   ],
   "source": [
    "import pandas as pd\n",
    "plant_growth = pd.read_csv('PlantGrowth.csv')\n",
    "\n",
    "plant_growth.head()"
   ]
  },
  {
   "cell_type": "markdown",
   "metadata": {},
   "source": [
    "#### 2. Describe the data set."
   ]
  },
  {
   "cell_type": "markdown",
   "metadata": {},
   "source": [
    "This is the PlantGrowth dataset downloaded from Vincent Arel-Bundock's GitHub Page. Vincents own description of the dataset is \"Results from an experiment to compare yields (as measured by dried weight of plants) obtained under a control and two different treatment conditions.\" - https://vincentarelbundock.github.io/Rdatasets/doc/datasets/PlantGrowth.html\n",
    "\n",
    "This is a small dataset that contains two variables; Weight and Group. There are three columns and 30 rows. The \"weight\" column contains numeric data ranging from 3.59 to 6.31 with a mean of 5.07. The \"group\" column contains categorical data. The three groups / categories are \"ctr1\", \"trt1\" and \"trt2\". There is 10 weights for each group, each group makes up 33.33% each.\n",
    "\n",
    "This is a complete dataset, there are no missing values or duplicates. Even though this is a small dataset and can be checked manually, there is code below to show that no duplicates exist. Additional code below to assist in describing the dataset and checking the breakdown of categories."
   ]
  },
  {
   "cell_type": "code",
   "execution_count": 20,
   "metadata": {},
   "outputs": [
    {
     "data": {
      "text/plain": [
       "count    30.000000\n",
       "mean      5.073000\n",
       "std       0.701192\n",
       "min       3.590000\n",
       "25%       4.550000\n",
       "50%       5.155000\n",
       "75%       5.530000\n",
       "max       6.310000\n",
       "Name: weight, dtype: float64"
      ]
     },
     "execution_count": 20,
     "metadata": {},
     "output_type": "execute_result"
    }
   ],
   "source": [
    "# Get the statistical summary for the 'weight' column\n",
    "weight_summary = plant_growth['weight'].describe()\n",
    "\n",
    "weight_summary"
   ]
  },
  {
   "cell_type": "code",
   "execution_count": 22,
   "metadata": {},
   "outputs": [
    {
     "name": "stdout",
     "output_type": "stream",
     "text": [
      "group\n",
      "ctrl    33.333333\n",
      "trt1    33.333333\n",
      "trt2    33.333333\n",
      "Name: proportion, dtype: float64\n",
      "group\n",
      "ctrl    10\n",
      "trt1    10\n",
      "trt2    10\n",
      "Name: count, dtype: int64\n"
     ]
    }
   ],
   "source": [
    "# Get a breakdown of the 'group' categories\n",
    "group_counts = plant_growth['group'].value_counts()\n",
    "\n",
    "# Get a breakdown Percentage\n",
    "group_percentage = plant_growth['group'].value_counts(normalize=True) * 100\n",
    "\n",
    "print(group_percentage)\n",
    "print(group_counts)"
   ]
  },
  {
   "cell_type": "code",
   "execution_count": 24,
   "metadata": {},
   "outputs": [
    {
     "name": "stdout",
     "output_type": "stream",
     "text": [
      "False\n"
     ]
    }
   ],
   "source": [
    "# Check for duplicates\n",
    "duplicates = plant_growth.duplicated()\n",
    "\n",
    "# Print True if any duplicates are found\n",
    "print(duplicates.any())\n"
   ]
  },
  {
   "cell_type": "markdown",
   "metadata": {},
   "source": [
    "#### 3. Describe what a t-test is, how it works, and what the assumptions are."
   ]
  },
  {
   "cell_type": "markdown",
   "metadata": {},
   "source": [
    "Resources (Will remove and tidy at a later time): \n",
    "\n",
    "https://www.youtube.com/watch?v=VekJxtk4BYM&t=29s\n",
    "\n",
    "https://www.investopedia.com/terms/t/t-test.asp#:~:text=%25%2025%25%200%25-,What%20Is%20a%20T%2DTest%3F,flipping%20a%20coin%20100%20times.\n",
    "\n",
    "https://www.scribbr.com/statistics/t-test/"
   ]
  },
  {
   "cell_type": "markdown",
   "metadata": {},
   "source": [
    "#### What is a t-test?\n",
    "\n",
    "\"A t-test is an inferential statistic used to determine if there is a significant difference between the means of two groups and how they are related.\" \n",
    "- https://www.investopedia.com/terms/t/t-test.asp#:~:text=%25%2025%25%200%25-,What%20Is%20a%20T%2DTest%3F,flipping%20a%20coin%20100%20times.\n",
    "\n",
    "There are three different types of t-tests: One sample t-test, Independent samples t-test and Paired samples t-test. \n",
    "\n",
    "1. One sample t-test: We use this when we want to compare the mean of a a sample to the mean of a known value.\n",
    "2. Independent samples t-test: We use this test when we want to compare the means of two independent groups.\n",
    "3. Paired Samples t-test: We use this to compare the measn of two dependent groups.\n",
    "- https://www.youtube.com/watch?v=VekJxtk4BYM&t=29s\n",
    "\n",
    "t-Tests are used to compare the means of two groups. If you want to compare more than two groups it is recommended to use an ANOVA test\n",
    "- https://www.scribbr.com/statistics/t-test/\n",
    "\n",
    "#### How it Works\n",
    "\n",
    "\n",
    "#### What are the assumptions?\n",
    "\n",
    "\n"
   ]
  },
  {
   "cell_type": "markdown",
   "metadata": {},
   "source": []
  },
  {
   "cell_type": "markdown",
   "metadata": {},
   "source": [
    "#### 4. Perform a t-test to determine whether there is a significant difference between the two treatment groups trt1 and trt2."
   ]
  },
  {
   "cell_type": "markdown",
   "metadata": {},
   "source": [
    "When performing a t-test on these two groups an independent t-test is the best option. We have more than one sample and the groups aren't dependent on each other. To figure out the correct syntax to perform an independent t-test I visited https://www.pythonfordatascience.org/independent-samples-t-test-python/ for some guidance.\n",
    "\n"
   ]
  },
  {
   "cell_type": "code",
   "execution_count": 7,
   "metadata": {},
   "outputs": [
    {
     "name": "stdout",
     "output_type": "stream",
     "text": [
      "   Variable     N    Mean        SD        SE  95% Conf.  Interval\n",
      "0      trt1  10.0  4.6610  0.793676  0.250982   4.093239  5.228761\n",
      "1      trt2  10.0  5.5260  0.442573  0.139954   5.209402  5.842598\n",
      "2  combined  20.0  5.0935  0.766855  0.171474   4.734601  5.452399\n",
      "            Independent t-test  results\n",
      "0  Difference (trt1 - trt2) =   -0.8650\n",
      "1        Degrees of freedom =   18.0000\n",
      "2                         t =   -3.0101\n",
      "3     Two side test p value =    0.0075\n",
      "4    Difference < 0 p value =    0.0038\n",
      "5    Difference > 0 p value =    0.9962\n",
      "6                 Cohen's d =   -1.3462\n",
      "7                 Hedge's g =   -1.2893\n",
      "8            Glass's delta1 =   -1.0899\n",
      "9          Point-Biserial r =   -0.5786\n"
     ]
    },
    {
     "name": "stderr",
     "output_type": "stream",
     "text": [
      "/Library/Frameworks/Python.framework/Versions/3.11/lib/python3.11/site-packages/researchpy/ttest.py:301: FutureWarning: Setting an item of incompatible dtype is deprecated and will raise an error in a future version of pandas. Value 'trt1' has dtype incompatible with float64, please explicitly cast to a compatible dtype first.\n",
      "  table.iloc[0,0] = group1_name\n",
      "/Library/Frameworks/Python.framework/Versions/3.11/lib/python3.11/site-packages/researchpy/ttest.py:460: FutureWarning: Setting an item of incompatible dtype is deprecated and will raise an error in a future version of pandas. Value 'Difference (trt1 - trt2) = ' has dtype incompatible with float64, please explicitly cast to a compatible dtype first.\n",
      "  table2.iloc[0,0] = f\"Difference ({group1_name} - {group2_name}) = \"\n"
     ]
    }
   ],
   "source": [
    "import pandas as pd\n",
    "import researchpy as rp \n",
    "import scipy.stats as stats\n",
    "\n",
    "# Perform the independent t-test between 'trt1' and 'trt2'\n",
    "results, summary = rp.ttest(group1= plant_growth['weight'][plant_growth['group'] == 'trt1'], \n",
    "                            group1_name= \"trt1\",\n",
    "                            group2= plant_growth['weight'][plant_growth['group'] == 'trt2'], \n",
    "                            group2_name= \"trt2\")\n",
    "\n",
    "# Print the results\n",
    "print(results)\n",
    "print(summary)\n"
   ]
  },
  {
   "cell_type": "markdown",
   "metadata": {},
   "source": [
    "## Results Discussion\n",
    "\n",
    "After conducting an independent t-test it is clear to see from the results, that there is a significant difference in growth between the plants in trt1 and trt2. The first thing I did when reviewing the results was look at the difference between both means. The difference in the two means is -0.8650 which shows that on average the plants in trt1 weigh 0.865 less than those in trt2. \n",
    "\n",
    "After reviewing the difference in means I checekd to see if I could reject the null hypothesis. You can reject null hypothesis when the p-value is less than or equal to your significance level - https://www.indeed.com/career-advice/career-development/reject-null-hypothesis#:~:text=You%20can%20reject%20a%20null,have%20occurred%20by%20random%20chance. Significance level isn't something that is set in stone, it ranges based on the amount of risk you are willing to take. However, for this test I have decided to stick with the traditional level which is 0.05 or 5%. The data you are exploring will determine how much risk you want to take. Healthcare data is a good example of where you would have a lower significance level. If the results of your research could potentially impact someones health then you need to bring down your risk tollerance and have a significance level of 0.01 or lower. Seeing as our p-value is 0.0075 we can reject null hypothesis. \n",
    "\n",
    "The t-statistic is -3.0101, a larger t-statistic indicates a greater difference between the group means.\n",
    "\n",
    "TBC...."
   ]
  },
  {
   "cell_type": "markdown",
   "metadata": {},
   "source": [
    "#### 5. Perform ANOVA to determine whether there is a significant difference between the three treatment groups ctrl, trt1, and trt2."
   ]
  },
  {
   "cell_type": "markdown",
   "metadata": {},
   "source": [
    "Will tidy later\n",
    "Getting started, intro video : https://www.youtube.com/watch?v=EWYzeZbchR0\n",
    "\n",
    "Syntax : https://www.statsmodels.org/stable/anova.html\n"
   ]
  },
  {
   "cell_type": "markdown",
   "metadata": {},
   "source": [
    "## Anova - Analysis of Variance"
   ]
  },
  {
   "cell_type": "markdown",
   "metadata": {},
   "source": [
    "#### What is ANOVA - Analysis of Variance?\n",
    "\n",
    "Analysis of variance tests where there are statistically significant differences between three or more groups (https://www.youtube.com/watch?v=0NwA9xxxtHw). Varience quantifies the degree of variability in a set of numbers. In the context of ANOVA variance helps us understand how much the total variability in the data is due to the differences between the groups. Before performing the analysis it is important to understand what your research question is. In this scenario with the plant_growth dataframe the questions is:\n",
    "\n",
    "Is there a difference in weight between the different groups of the independent variable (group) with respect to the dependent variable (weight)?\n",
    "\n",
    "We need to test to see if there is a Null hypothesis H0 or an Alternative hypothesis H1. A null hypothesis would mean that there is no difference between the means of the groups and an Alternative hypothesis would show that at least two of the group means differ from each other."
   ]
  },
  {
   "cell_type": "markdown",
   "metadata": {},
   "source": [
    "#### Breaking down the code\n",
    "\n",
    "To conduct an ANOVA there are three steps involved which have been carried out in the code below. \n",
    "\n",
    "Step one is to generate a model that fits our design. This is the ols() part of our code. 'Weight' is the dependent variable and 'group' is the independent variable. The C() before group is used to indicate it's a category. Step two is to fit the data to our model and step three is to perform anova_lm() on the model.\n",
    "\n",
    "The first output is the ANOVA table and the second is the model summary.\n",
    "\n",
    "Run the code and we have our results! https://nicoleeic.github.io/Brain_and_Code/2019/09/02/ANOVA_new.html"
   ]
  },
  {
   "cell_type": "code",
   "execution_count": 13,
   "metadata": {},
   "outputs": [
    {
     "name": "stdout",
     "output_type": "stream",
     "text": [
      "\n",
      "ANOVA Table:\n",
      "            sum_sq    df         F   PR(>F)\n",
      "C(group)   3.76634   2.0  4.846088  0.01591\n",
      "Residual  10.49209  27.0       NaN      NaN\n",
      "\n",
      "OLS Regression Results:\n",
      "                            OLS Regression Results                            \n",
      "==============================================================================\n",
      "Dep. Variable:                 weight   R-squared:                       0.264\n",
      "Model:                            OLS   Adj. R-squared:                  0.210\n",
      "Method:                 Least Squares   F-statistic:                     4.846\n",
      "Date:                Sat, 05 Oct 2024   Prob (F-statistic):             0.0159\n",
      "Time:                        10:53:33   Log-Likelihood:                -26.810\n",
      "No. Observations:                  30   AIC:                             59.62\n",
      "Df Residuals:                      27   BIC:                             63.82\n",
      "Df Model:                           2                                         \n",
      "Covariance Type:            nonrobust                                         \n",
      "====================================================================================\n",
      "                       coef    std err          t      P>|t|      [0.025      0.975]\n",
      "------------------------------------------------------------------------------------\n",
      "Intercept            5.0320      0.197     25.527      0.000       4.628       5.436\n",
      "C(group)[T.trt1]    -0.3710      0.279     -1.331      0.194      -0.943       0.201\n",
      "C(group)[T.trt2]     0.4940      0.279      1.772      0.088      -0.078       1.066\n",
      "==============================================================================\n",
      "Omnibus:                        1.835   Durbin-Watson:                   2.704\n",
      "Prob(Omnibus):                  0.400   Jarque-Bera (JB):                1.406\n",
      "Skew:                           0.524   Prob(JB):                        0.495\n",
      "Kurtosis:                       2.835   Cond. No.                         3.73\n",
      "==============================================================================\n",
      "\n",
      "Notes:\n",
      "[1] Standard Errors assume that the covariance matrix of the errors is correctly specified.\n"
     ]
    }
   ],
   "source": [
    "import pandas as pd\n",
    "import statsmodels.api as sm\n",
    "from statsmodels.formula.api import ols\n",
    "\n",
    "# Step 1: Define the model\n",
    "model = ols('weight ~ C(group)', data=plant_growth).fit()\n",
    "\n",
    "# Step 2: Perform ANOVA\n",
    "anova_table = sm.stats.anova_lm(model, typ=2)\n",
    "\n",
    "# Display the results\n",
    "print(\"\\nANOVA Table:\")\n",
    "print(anova_table)\n",
    "\n",
    "# Step 3: Display full OLS regression summary\n",
    "print(\"\\nOLS Regression Results:\")\n",
    "print(model.summary())\n"
   ]
  },
  {
   "cell_type": "markdown",
   "metadata": {},
   "source": [
    "#### Results Discussion\n",
    "\n",
    "1. ANOVA Table:\n",
    "\n",
    "\n",
    "2. OLS Regression Results:\n"
   ]
  },
  {
   "cell_type": "markdown",
   "metadata": {},
   "source": [
    "#### Visualise the data :\n",
    "\n",
    "https://nicoleeic.github.io/Brain_and_Code/2019/09/02/ANOVA_new.html"
   ]
  },
  {
   "cell_type": "code",
   "execution_count": 10,
   "metadata": {},
   "outputs": [
    {
     "data": {
      "image/png": "[encoded data removed]",
      "text/plain": [
       "<Figure size 1511.11x500 with 1 Axes>"
      ]
     },
     "metadata": {},
     "output_type": "display_data"
    }
   ],
   "source": [
    "import seaborn as sns\n",
    "import matplotlib.pyplot as plt\n",
    "\n",
    "# Visualize the data using violin plot\n",
    "sns.catplot(x=\"group\", y=\"weight\", data=plant_growth, dodge=True, kind='violin', aspect=3)\n",
    "\n",
    "# Display the plot\n",
    "plt.show()\n"
   ]
  },
  {
   "cell_type": "markdown",
   "metadata": {},
   "source": [
    "#### 6. Explain why it is more appropriate to apply ANOVA rather than several t-tests when analyzing more than two groups."
   ]
  },
  {
   "cell_type": "markdown",
   "metadata": {},
   "source": []
  }
 ],
 "metadata": {
  "kernelspec": {
   "display_name": "Python 3",
   "language": "python",
   "name": "python3"
  },
  "language_info": {
   "codemirror_mode": {
    "name": "ipython",
    "version": 3
   },
   "file_extension": ".py",
   "mimetype": "text/x-python",
   "name": "python",
   "nbconvert_exporter": "python",
   "pygments_lexer": "ipython3",
   "version": "3.11.1"
  }
 },
 "nbformat": 4,
 "nbformat_minor": 2
}
